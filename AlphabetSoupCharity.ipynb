{
  "cells": [
    {
      "cell_type": "markdown",
      "metadata": {
        "id": "view-in-github",
        "colab_type": "text"
      },
      "source": [
        "<a href=\"https://colab.research.google.com/github/texaschikkita/deep-learning-challenge/blob/main/AlphabetSoupCharity.ipynb\" target=\"_parent\"><img src=\"https://colab.research.google.com/assets/colab-badge.svg\" alt=\"Open In Colab\"/></a>"
      ]
    },
    {
      "cell_type": "markdown",
      "metadata": {
        "id": "PRP0rl5SJy_d"
      },
      "source": [
        "## Preprocessing"
      ]
    },
    {
      "cell_type": "code",
      "execution_count": 1,
      "metadata": {
        "id": "Jb11bgLAJy_e"
      },
      "outputs": [],
      "source": [
        "# Import our dependencies\n",
        "from sklearn.model_selection import train_test_split\n",
        "from sklearn.preprocessing import StandardScaler\n",
        "import pandas as pd\n",
        "import tensorflow as tf\n",
        "import matplotlib.pyplot as plt\n",
        "\n",
        "\n",
        "#  Import and read the charity_data.csv.\n",
        "import pandas as pd \n",
        "import pandas as pd\n",
        "\n",
        "# load 50% of the data\n",
        "# Google Colab crashed trying to load 100%\n",
        "application_df = pd.read_csv(\"https://static.bc-edx.com/data/dl-1-2/m21/lms/starter/charity_data.csv\", \n",
        "                             nrows=int(0.5 * len(pd.read_csv(\"https://static.bc-edx.com/data/dl-1-2/m21/lms/starter/charity_data.csv\"))))\n"
      ]
    },
    {
      "cell_type": "code",
      "execution_count": 2,
      "metadata": {
        "colab": {
          "base_uri": "https://localhost:8080/",
          "height": 424
        },
        "id": "Qi2yISZMJy_g",
        "outputId": "3a5a99e8-70d8-4c8d-ad1d-96383bb620e5"
      },
      "outputs": [
        {
          "output_type": "execute_result",
          "data": {
            "text/plain": [
              "      APPLICATION_TYPE       AFFILIATION CLASSIFICATION      USE_CASE  \\\n",
              "0                  T10       Independent          C1000    ProductDev   \n",
              "1                   T3       Independent          C2000  Preservation   \n",
              "2                   T5  CompanySponsored          C3000    ProductDev   \n",
              "3                   T3  CompanySponsored          C2000  Preservation   \n",
              "4                   T3       Independent          C1000     Heathcare   \n",
              "...                ...               ...            ...           ...   \n",
              "17144               T3  CompanySponsored          C1000  Preservation   \n",
              "17145               T3       Independent          C2000  Preservation   \n",
              "17146               T3       Independent          C2000  Preservation   \n",
              "17147               T3  CompanySponsored          C1200  Preservation   \n",
              "17148               T3       Independent          C1000  Preservation   \n",
              "\n",
              "       ORGANIZATION  STATUS     INCOME_AMT SPECIAL_CONSIDERATIONS  ASK_AMT  \\\n",
              "0       Association       1              0                      N     5000   \n",
              "1      Co-operative       1         1-9999                      N   108590   \n",
              "2       Association       1              0                      N     5000   \n",
              "3             Trust       1    10000-24999                      N     6692   \n",
              "4             Trust       1  100000-499999                      N   142590   \n",
              "...             ...     ...            ...                    ...      ...   \n",
              "17144         Trust       1    25000-99999                      N    30041   \n",
              "17145         Trust       1              0                      N     5000   \n",
              "17146         Trust       1  100000-499999                      N   374803   \n",
              "17147         Trust       1              0                      N     5000   \n",
              "17148         Trust       1    25000-99999                      N    11485   \n",
              "\n",
              "       IS_SUCCESSFUL  \n",
              "0                  1  \n",
              "1                  1  \n",
              "2                  0  \n",
              "3                  1  \n",
              "4                  1  \n",
              "...              ...  \n",
              "17144              1  \n",
              "17145              0  \n",
              "17146              1  \n",
              "17147              1  \n",
              "17148              1  \n",
              "\n",
              "[17149 rows x 10 columns]"
            ],
            "text/html": [
              "\n",
              "  <div id=\"df-a8d26483-9ba4-48d0-8884-fa2c86463888\">\n",
              "    <div class=\"colab-df-container\">\n",
              "      <div>\n",
              "<style scoped>\n",
              "    .dataframe tbody tr th:only-of-type {\n",
              "        vertical-align: middle;\n",
              "    }\n",
              "\n",
              "    .dataframe tbody tr th {\n",
              "        vertical-align: top;\n",
              "    }\n",
              "\n",
              "    .dataframe thead th {\n",
              "        text-align: right;\n",
              "    }\n",
              "</style>\n",
              "<table border=\"1\" class=\"dataframe\">\n",
              "  <thead>\n",
              "    <tr style=\"text-align: right;\">\n",
              "      <th></th>\n",
              "      <th>APPLICATION_TYPE</th>\n",
              "      <th>AFFILIATION</th>\n",
              "      <th>CLASSIFICATION</th>\n",
              "      <th>USE_CASE</th>\n",
              "      <th>ORGANIZATION</th>\n",
              "      <th>STATUS</th>\n",
              "      <th>INCOME_AMT</th>\n",
              "      <th>SPECIAL_CONSIDERATIONS</th>\n",
              "      <th>ASK_AMT</th>\n",
              "      <th>IS_SUCCESSFUL</th>\n",
              "    </tr>\n",
              "  </thead>\n",
              "  <tbody>\n",
              "    <tr>\n",
              "      <th>0</th>\n",
              "      <td>T10</td>\n",
              "      <td>Independent</td>\n",
              "      <td>C1000</td>\n",
              "      <td>ProductDev</td>\n",
              "      <td>Association</td>\n",
              "      <td>1</td>\n",
              "      <td>0</td>\n",
              "      <td>N</td>\n",
              "      <td>5000</td>\n",
              "      <td>1</td>\n",
              "    </tr>\n",
              "    <tr>\n",
              "      <th>1</th>\n",
              "      <td>T3</td>\n",
              "      <td>Independent</td>\n",
              "      <td>C2000</td>\n",
              "      <td>Preservation</td>\n",
              "      <td>Co-operative</td>\n",
              "      <td>1</td>\n",
              "      <td>1-9999</td>\n",
              "      <td>N</td>\n",
              "      <td>108590</td>\n",
              "      <td>1</td>\n",
              "    </tr>\n",
              "    <tr>\n",
              "      <th>2</th>\n",
              "      <td>T5</td>\n",
              "      <td>CompanySponsored</td>\n",
              "      <td>C3000</td>\n",
              "      <td>ProductDev</td>\n",
              "      <td>Association</td>\n",
              "      <td>1</td>\n",
              "      <td>0</td>\n",
              "      <td>N</td>\n",
              "      <td>5000</td>\n",
              "      <td>0</td>\n",
              "    </tr>\n",
              "    <tr>\n",
              "      <th>3</th>\n",
              "      <td>T3</td>\n",
              "      <td>CompanySponsored</td>\n",
              "      <td>C2000</td>\n",
              "      <td>Preservation</td>\n",
              "      <td>Trust</td>\n",
              "      <td>1</td>\n",
              "      <td>10000-24999</td>\n",
              "      <td>N</td>\n",
              "      <td>6692</td>\n",
              "      <td>1</td>\n",
              "    </tr>\n",
              "    <tr>\n",
              "      <th>4</th>\n",
              "      <td>T3</td>\n",
              "      <td>Independent</td>\n",
              "      <td>C1000</td>\n",
              "      <td>Heathcare</td>\n",
              "      <td>Trust</td>\n",
              "      <td>1</td>\n",
              "      <td>100000-499999</td>\n",
              "      <td>N</td>\n",
              "      <td>142590</td>\n",
              "      <td>1</td>\n",
              "    </tr>\n",
              "    <tr>\n",
              "      <th>...</th>\n",
              "      <td>...</td>\n",
              "      <td>...</td>\n",
              "      <td>...</td>\n",
              "      <td>...</td>\n",
              "      <td>...</td>\n",
              "      <td>...</td>\n",
              "      <td>...</td>\n",
              "      <td>...</td>\n",
              "      <td>...</td>\n",
              "      <td>...</td>\n",
              "    </tr>\n",
              "    <tr>\n",
              "      <th>17144</th>\n",
              "      <td>T3</td>\n",
              "      <td>CompanySponsored</td>\n",
              "      <td>C1000</td>\n",
              "      <td>Preservation</td>\n",
              "      <td>Trust</td>\n",
              "      <td>1</td>\n",
              "      <td>25000-99999</td>\n",
              "      <td>N</td>\n",
              "      <td>30041</td>\n",
              "      <td>1</td>\n",
              "    </tr>\n",
              "    <tr>\n",
              "      <th>17145</th>\n",
              "      <td>T3</td>\n",
              "      <td>Independent</td>\n",
              "      <td>C2000</td>\n",
              "      <td>Preservation</td>\n",
              "      <td>Trust</td>\n",
              "      <td>1</td>\n",
              "      <td>0</td>\n",
              "      <td>N</td>\n",
              "      <td>5000</td>\n",
              "      <td>0</td>\n",
              "    </tr>\n",
              "    <tr>\n",
              "      <th>17146</th>\n",
              "      <td>T3</td>\n",
              "      <td>Independent</td>\n",
              "      <td>C2000</td>\n",
              "      <td>Preservation</td>\n",
              "      <td>Trust</td>\n",
              "      <td>1</td>\n",
              "      <td>100000-499999</td>\n",
              "      <td>N</td>\n",
              "      <td>374803</td>\n",
              "      <td>1</td>\n",
              "    </tr>\n",
              "    <tr>\n",
              "      <th>17147</th>\n",
              "      <td>T3</td>\n",
              "      <td>CompanySponsored</td>\n",
              "      <td>C1200</td>\n",
              "      <td>Preservation</td>\n",
              "      <td>Trust</td>\n",
              "      <td>1</td>\n",
              "      <td>0</td>\n",
              "      <td>N</td>\n",
              "      <td>5000</td>\n",
              "      <td>1</td>\n",
              "    </tr>\n",
              "    <tr>\n",
              "      <th>17148</th>\n",
              "      <td>T3</td>\n",
              "      <td>Independent</td>\n",
              "      <td>C1000</td>\n",
              "      <td>Preservation</td>\n",
              "      <td>Trust</td>\n",
              "      <td>1</td>\n",
              "      <td>25000-99999</td>\n",
              "      <td>N</td>\n",
              "      <td>11485</td>\n",
              "      <td>1</td>\n",
              "    </tr>\n",
              "  </tbody>\n",
              "</table>\n",
              "<p>17149 rows × 10 columns</p>\n",
              "</div>\n",
              "      <button class=\"colab-df-convert\" onclick=\"convertToInteractive('df-a8d26483-9ba4-48d0-8884-fa2c86463888')\"\n",
              "              title=\"Convert this dataframe to an interactive table.\"\n",
              "              style=\"display:none;\">\n",
              "        \n",
              "  <svg xmlns=\"http://www.w3.org/2000/svg\" height=\"24px\"viewBox=\"0 0 24 24\"\n",
              "       width=\"24px\">\n",
              "    <path d=\"M0 0h24v24H0V0z\" fill=\"none\"/>\n",
              "    <path d=\"M18.56 5.44l.94 2.06.94-2.06 2.06-.94-2.06-.94-.94-2.06-.94 2.06-2.06.94zm-11 1L8.5 8.5l.94-2.06 2.06-.94-2.06-.94L8.5 2.5l-.94 2.06-2.06.94zm10 10l.94 2.06.94-2.06 2.06-.94-2.06-.94-.94-2.06-.94 2.06-2.06.94z\"/><path d=\"M17.41 7.96l-1.37-1.37c-.4-.4-.92-.59-1.43-.59-.52 0-1.04.2-1.43.59L10.3 9.45l-7.72 7.72c-.78.78-.78 2.05 0 2.83L4 21.41c.39.39.9.59 1.41.59.51 0 1.02-.2 1.41-.59l7.78-7.78 2.81-2.81c.8-.78.8-2.07 0-2.86zM5.41 20L4 18.59l7.72-7.72 1.47 1.35L5.41 20z\"/>\n",
              "  </svg>\n",
              "      </button>\n",
              "      \n",
              "  <style>\n",
              "    .colab-df-container {\n",
              "      display:flex;\n",
              "      flex-wrap:wrap;\n",
              "      gap: 12px;\n",
              "    }\n",
              "\n",
              "    .colab-df-convert {\n",
              "      background-color: #E8F0FE;\n",
              "      border: none;\n",
              "      border-radius: 50%;\n",
              "      cursor: pointer;\n",
              "      display: none;\n",
              "      fill: #1967D2;\n",
              "      height: 32px;\n",
              "      padding: 0 0 0 0;\n",
              "      width: 32px;\n",
              "    }\n",
              "\n",
              "    .colab-df-convert:hover {\n",
              "      background-color: #E2EBFA;\n",
              "      box-shadow: 0px 1px 2px rgba(60, 64, 67, 0.3), 0px 1px 3px 1px rgba(60, 64, 67, 0.15);\n",
              "      fill: #174EA6;\n",
              "    }\n",
              "\n",
              "    [theme=dark] .colab-df-convert {\n",
              "      background-color: #3B4455;\n",
              "      fill: #D2E3FC;\n",
              "    }\n",
              "\n",
              "    [theme=dark] .colab-df-convert:hover {\n",
              "      background-color: #434B5C;\n",
              "      box-shadow: 0px 1px 3px 1px rgba(0, 0, 0, 0.15);\n",
              "      filter: drop-shadow(0px 1px 2px rgba(0, 0, 0, 0.3));\n",
              "      fill: #FFFFFF;\n",
              "    }\n",
              "  </style>\n",
              "\n",
              "      <script>\n",
              "        const buttonEl =\n",
              "          document.querySelector('#df-a8d26483-9ba4-48d0-8884-fa2c86463888 button.colab-df-convert');\n",
              "        buttonEl.style.display =\n",
              "          google.colab.kernel.accessAllowed ? 'block' : 'none';\n",
              "\n",
              "        async function convertToInteractive(key) {\n",
              "          const element = document.querySelector('#df-a8d26483-9ba4-48d0-8884-fa2c86463888');\n",
              "          const dataTable =\n",
              "            await google.colab.kernel.invokeFunction('convertToInteractive',\n",
              "                                                     [key], {});\n",
              "          if (!dataTable) return;\n",
              "\n",
              "          const docLinkHtml = 'Like what you see? Visit the ' +\n",
              "            '<a target=\"_blank\" href=https://colab.research.google.com/notebooks/data_table.ipynb>data table notebook</a>'\n",
              "            + ' to learn more about interactive tables.';\n",
              "          element.innerHTML = '';\n",
              "          dataTable['output_type'] = 'display_data';\n",
              "          await google.colab.output.renderOutput(dataTable, element);\n",
              "          const docLink = document.createElement('div');\n",
              "          docLink.innerHTML = docLinkHtml;\n",
              "          element.appendChild(docLink);\n",
              "        }\n",
              "      </script>\n",
              "    </div>\n",
              "  </div>\n",
              "  "
            ]
          },
          "metadata": {},
          "execution_count": 2
        }
      ],
      "source": [
        "# Drop the non-beneficial ID columns, 'EIN' and 'NAME'.\n",
        "application_df.drop([\"EIN\",\"NAME\"], axis=1)"
      ]
    },
    {
      "cell_type": "code",
      "execution_count": 3,
      "metadata": {
        "colab": {
          "base_uri": "https://localhost:8080/"
        },
        "id": "5Li4zMioJy_g",
        "outputId": "0d1c4621-f289-4bec-e92a-407d4394d89a"
      },
      "outputs": [
        {
          "output_type": "execute_result",
          "data": {
            "text/plain": [
              "EIN                       17149\n",
              "NAME                      10554\n",
              "APPLICATION_TYPE             14\n",
              "AFFILIATION                   6\n",
              "CLASSIFICATION               47\n",
              "USE_CASE                      5\n",
              "ORGANIZATION                  4\n",
              "STATUS                        2\n",
              "INCOME_AMT                    9\n",
              "SPECIAL_CONSIDERATIONS        2\n",
              "ASK_AMT                    4158\n",
              "IS_SUCCESSFUL                 2\n",
              "dtype: int64"
            ]
          },
          "metadata": {},
          "execution_count": 3
        }
      ],
      "source": [
        "# Determine the number of unique values in each column.\n",
        "application_df.nunique()"
      ]
    },
    {
      "cell_type": "code",
      "execution_count": 4,
      "metadata": {
        "colab": {
          "base_uri": "https://localhost:8080/"
        },
        "id": "JLDcodiwJy_h",
        "outputId": "ad0b59a0-5b9d-48c4-8e62-40c6299f1f0a"
      },
      "outputs": [
        {
          "output_type": "execute_result",
          "data": {
            "text/plain": [
              "T3     13822\n",
              "T6       664\n",
              "T4       592\n",
              "T19      459\n",
              "T8       433\n",
              "T10      401\n",
              "T7       375\n",
              "T5       264\n",
              "T9        84\n",
              "T13       33\n",
              "T12       11\n",
              "T2         8\n",
              "T29        2\n",
              "T25        1\n",
              "Name: APPLICATION_TYPE, dtype: int64"
            ]
          },
          "metadata": {},
          "execution_count": 4
        }
      ],
      "source": [
        "# Look at APPLICATION_TYPE value counts for binning\n",
        "application_values = application_df.loc[:,'APPLICATION_TYPE'].value_counts()\n",
        "application_values"
      ]
    },
    {
      "cell_type": "code",
      "execution_count": 5,
      "metadata": {
        "id": "q1QtoRSdJy_h",
        "outputId": "b10ebccb-ba76-4cac-c5a2-4a35cd2b19dd",
        "colab": {
          "base_uri": "https://localhost:8080/"
        }
      },
      "outputs": [
        {
          "output_type": "execute_result",
          "data": {
            "text/plain": [
              "T3       13822\n",
              "Other     3327\n",
              "Name: APPLICATION_TYPE, dtype: int64"
            ]
          },
          "metadata": {},
          "execution_count": 5
        }
      ],
      "source": [
        "# Choose a cutoff value and create a list of application types to be replaced\n",
        "# use the variable name `application_types_to_replace`\n",
        "application_types_to_replace = list(application_values[application_values<2000].index)\n",
        "# Replace in dataframe\n",
        "for app in application_types_to_replace:\n",
        "    application_df['APPLICATION_TYPE'] = application_df['APPLICATION_TYPE'].replace(app,\"Other\")\n",
        "\n",
        "# Check to make sure binning was successful\n",
        "application_df['APPLICATION_TYPE'].value_counts()"
      ]
    },
    {
      "cell_type": "code",
      "execution_count": 7,
      "metadata": {
        "colab": {
          "base_uri": "https://localhost:8080/"
        },
        "id": "Go1YAAzqJy_i",
        "outputId": "e08a59ef-d4d5-44c7-991b-e2daacef054e"
      },
      "outputs": [
        {
          "output_type": "execute_result",
          "data": {
            "text/plain": [
              "C1000    8885\n",
              "C2000    2982\n",
              "C1200    2396\n",
              "C2100    1136\n",
              "C3000     580\n",
              "C7000     420\n",
              "C1700     174\n",
              "C4000     117\n",
              "C5000      68\n",
              "C2700      67\n",
              "C7100      47\n",
              "C1270      46\n",
              "C2800      30\n",
              "C1240      18\n",
              "C7200      18\n",
              "C1230      14\n",
              "C1300      14\n",
              "C1400      13\n",
              "C2300      13\n",
              "C7120      12\n",
              "C8000      11\n",
              "C1280      11\n",
              "C8200       9\n",
              "C1800       7\n",
              "C1500       7\n",
              "C7210       6\n",
              "C6000       6\n",
              "C1235       5\n",
              "C1237       5\n",
              "C1600       4\n",
              "C1250       4\n",
              "C4100       3\n",
              "C1238       3\n",
              "C2710       2\n",
              "C1260       2\n",
              "C1720       2\n",
              "C1278       2\n",
              "C1728       1\n",
              "C2170       1\n",
              "C4120       1\n",
              "C1257       1\n",
              "C8210       1\n",
              "C2400       1\n",
              "C4500       1\n",
              "C1245       1\n",
              "C2561       1\n",
              "C1732       1\n",
              "Name: CLASSIFICATION, dtype: int64"
            ]
          },
          "metadata": {},
          "execution_count": 7
        }
      ],
      "source": [
        "# Look at CLASSIFICATION value counts for binning\n",
        "classification_value = application_df.loc[:, 'CLASSIFICATION'].value_counts()\n",
        "classification_value"
      ]
    },
    {
      "cell_type": "code",
      "execution_count": 8,
      "metadata": {
        "id": "chevXJurJy_j",
        "outputId": "cde53614-0f35-4ddc-ff64-9f89e784bbe3",
        "colab": {
          "base_uri": "https://localhost:8080/"
        }
      },
      "outputs": [
        {
          "output_type": "execute_result",
          "data": {
            "text/plain": [
              "C1000    8885\n",
              "C2000    2982\n",
              "Other    2886\n",
              "C1200    2396\n",
              "Name: CLASSIFICATION, dtype: int64"
            ]
          },
          "metadata": {},
          "execution_count": 8
        }
      ],
      "source": [
        "# Choose a cutoff value and create a list of classifications to be replaced\n",
        "# use the variable name `classifications_to_replace`\n",
        "classifications_to_replace = list(classification_value[classification_value<2000].index)\n",
        "\n",
        "# Replace in dataframe\n",
        "for cls in classifications_to_replace:\n",
        "    application_df['CLASSIFICATION'] = application_df['CLASSIFICATION'].replace(cls,\"Other\")\n",
        "    \n",
        "# Check to make sure binning was successful\n",
        "application_df['CLASSIFICATION'].value_counts()"
      ]
    },
    {
      "cell_type": "code",
      "execution_count": 9,
      "metadata": {
        "id": "bN9sGb3oJy_k"
      },
      "outputs": [],
      "source": [
        "# Convert categorical data to numeric with `pd.get_dummies`\n",
        "application_df = pd.get_dummies(application_df)\n"
      ]
    },
    {
      "cell_type": "code",
      "execution_count": 10,
      "metadata": {
        "id": "p3_ZgS-IJy_k"
      },
      "outputs": [],
      "source": [
        "# Split our preprocessed data into our features and target arrays\n",
        "y = application_df.IS_SUCCESSFUL.values\n",
        "X = application_df.drop('IS_SUCCESSFUL', axis=1).values\n"
      ]
    },
    {
      "cell_type": "code",
      "execution_count": 11,
      "metadata": {
        "id": "_ws84M38lIV7"
      },
      "outputs": [],
      "source": [
        "\n",
        "# Split the preprocessed data into a training and\n",
        "# testing dataset\n",
        "X_train, X_test, y_train, y_test = train_test_split(X,y,random_state= 1)"
      ]
    },
    {
      "cell_type": "code",
      "source": [
        "application_df = None"
      ],
      "metadata": {
        "id": "bVliA40T-aAs"
      },
      "execution_count": 12,
      "outputs": []
    },
    {
      "cell_type": "code",
      "execution_count": 13,
      "metadata": {
        "id": "MxGtC5clJy_l"
      },
      "outputs": [],
      "source": [
        "# Create a StandardScaler instances\n",
        "scaler = StandardScaler()\n",
        "\n",
        "# Fit the StandardScaler\n",
        "X_scaler = scaler.fit(X_train)\n",
        "\n",
        "# Scale the data\n",
        "X_train_scaled = X_scaler.transform(X_train)\n",
        "X_test_scaled = X_scaler.transform(X_test)"
      ]
    },
    {
      "cell_type": "markdown",
      "metadata": {
        "id": "ots559taJy_l"
      },
      "source": [
        "## Compile, Train and Evaluate the Model"
      ]
    },
    {
      "cell_type": "code",
      "execution_count": 14,
      "metadata": {
        "id": "D5knci_HJy_m",
        "outputId": "6828cf81-8b52-4281-9d0d-e73b201cfc29",
        "colab": {
          "base_uri": "https://localhost:8080/"
        }
      },
      "outputs": [
        {
          "output_type": "stream",
          "name": "stdout",
          "text": [
            "Model: \"sequential\"\n",
            "_________________________________________________________________\n",
            " Layer (type)                Output Shape              Param #   \n",
            "=================================================================\n",
            " dense (Dense)               (None, 80)                847200    \n",
            "                                                                 \n",
            " dense_1 (Dense)             (None, 30)                2430      \n",
            "                                                                 \n",
            " dense_2 (Dense)             (None, 1)                 31        \n",
            "                                                                 \n",
            "=================================================================\n",
            "Total params: 849,661\n",
            "Trainable params: 849,661\n",
            "Non-trainable params: 0\n",
            "_________________________________________________________________\n"
          ]
        }
      ],
      "source": [
        "# Define the model - deep neural net, i.e., the number of input features and hidden nodes for each layer.\n",
        "number_input_features = len(X_train_scaled[0])\n",
        "\n",
        "nn_model = tf.keras.models.Sequential()\n",
        "\n",
        "# First hidden layer\n",
        "nn_model.add(tf.keras.layers.Dense(units= 80, input_dim= number_input_features, activation='relu'))\n",
        "\n",
        "# Second hidden layer\n",
        "nn_model.add(tf.keras.layers.Dense(units= 30, activation='relu'))\n",
        "\n",
        "# Output layer\n",
        "nn_model.add(tf.keras.layers.Dense(units=1, activation='sigmoid'))\n",
        "\n",
        "# Check the structure of the model\n",
        "nn_model.summary()"
      ]
    },
    {
      "cell_type": "code",
      "execution_count": 15,
      "metadata": {
        "id": "0EUQHJQrJy_m"
      },
      "outputs": [],
      "source": [
        "# Compile the model\n",
        "nn_model.compile(loss = 'binary_crossentropy', optimizer = 'adam', metrics=['accuracy', tf.keras.metrics.Recall()])"
      ]
    },
    {
      "cell_type": "code",
      "execution_count": 16,
      "metadata": {
        "id": "VglizxcvJy_m",
        "outputId": "e94eb8bd-d5c6-4bb4-fa1a-c635da2511de",
        "colab": {
          "base_uri": "https://localhost:8080/"
        }
      },
      "outputs": [
        {
          "output_type": "stream",
          "name": "stdout",
          "text": [
            "Epoch 1/100\n",
            "402/402 [==============================] - 8s 16ms/step - loss: 0.5282 - accuracy: 0.7521 - recall: 0.8553\n",
            "Epoch 2/100\n",
            "402/402 [==============================] - 8s 19ms/step - loss: 0.1264 - accuracy: 0.9583 - recall: 0.9560\n",
            "Epoch 3/100\n",
            "402/402 [==============================] - 5s 14ms/step - loss: 0.0825 - accuracy: 0.9684 - recall: 0.9606\n",
            "Epoch 4/100\n",
            "402/402 [==============================] - 7s 17ms/step - loss: 0.0773 - accuracy: 0.9691 - recall: 0.9613\n",
            "Epoch 5/100\n",
            "402/402 [==============================] - 6s 15ms/step - loss: 0.0757 - accuracy: 0.9692 - recall: 0.9594\n",
            "Epoch 6/100\n",
            "402/402 [==============================] - 6s 16ms/step - loss: 0.0747 - accuracy: 0.9694 - recall: 0.9615\n",
            "Epoch 7/100\n",
            "402/402 [==============================] - 6s 16ms/step - loss: 0.0737 - accuracy: 0.9701 - recall: 0.9615\n",
            "Epoch 8/100\n",
            "402/402 [==============================] - 5s 13ms/step - loss: 0.0734 - accuracy: 0.9693 - recall: 0.9611\n",
            "Epoch 9/100\n",
            "402/402 [==============================] - 6s 15ms/step - loss: 0.0721 - accuracy: 0.9690 - recall: 0.9602\n",
            "Epoch 10/100\n",
            "402/402 [==============================] - 6s 14ms/step - loss: 0.0714 - accuracy: 0.9709 - recall: 0.9619\n",
            "Epoch 11/100\n",
            "402/402 [==============================] - 7s 18ms/step - loss: 0.0711 - accuracy: 0.9699 - recall: 0.9629\n",
            "Epoch 12/100\n",
            "402/402 [==============================] - 6s 14ms/step - loss: 0.0708 - accuracy: 0.9712 - recall: 0.9622\n",
            "Epoch 13/100\n",
            "402/402 [==============================] - 7s 18ms/step - loss: 0.0701 - accuracy: 0.9713 - recall: 0.9622\n",
            "Epoch 14/100\n",
            "402/402 [==============================] - 6s 14ms/step - loss: 0.0694 - accuracy: 0.9708 - recall: 0.9625\n",
            "Epoch 15/100\n",
            "402/402 [==============================] - 7s 17ms/step - loss: 0.0694 - accuracy: 0.9712 - recall: 0.9626\n",
            "Epoch 16/100\n",
            "402/402 [==============================] - 7s 17ms/step - loss: 0.0689 - accuracy: 0.9706 - recall: 0.9640\n",
            "Epoch 17/100\n",
            "402/402 [==============================] - 7s 17ms/step - loss: 0.0686 - accuracy: 0.9718 - recall: 0.9641\n",
            "Epoch 18/100\n",
            "402/402 [==============================] - 6s 15ms/step - loss: 0.0681 - accuracy: 0.9715 - recall: 0.9650\n",
            "Epoch 19/100\n",
            "402/402 [==============================] - 7s 16ms/step - loss: 0.0673 - accuracy: 0.9723 - recall: 0.9648\n",
            "Epoch 20/100\n",
            "402/402 [==============================] - 6s 15ms/step - loss: 0.0683 - accuracy: 0.9718 - recall: 0.9651\n",
            "Epoch 21/100\n",
            "402/402 [==============================] - 7s 16ms/step - loss: 0.0667 - accuracy: 0.9721 - recall: 0.9643\n",
            "Epoch 22/100\n",
            "402/402 [==============================] - 5s 13ms/step - loss: 0.0663 - accuracy: 0.9724 - recall: 0.9662\n",
            "Epoch 23/100\n",
            "402/402 [==============================] - 7s 18ms/step - loss: 0.0662 - accuracy: 0.9726 - recall: 0.9659\n",
            "Epoch 24/100\n",
            "402/402 [==============================] - 6s 14ms/step - loss: 0.0655 - accuracy: 0.9730 - recall: 0.9661\n",
            "Epoch 25/100\n",
            "402/402 [==============================] - 6s 16ms/step - loss: 0.0657 - accuracy: 0.9738 - recall: 0.9672\n",
            "Epoch 26/100\n",
            "402/402 [==============================] - 6s 15ms/step - loss: 0.0650 - accuracy: 0.9733 - recall: 0.9672\n",
            "Epoch 27/100\n",
            "402/402 [==============================] - 6s 16ms/step - loss: 0.0650 - accuracy: 0.9734 - recall: 0.9673\n",
            "Epoch 28/100\n",
            "402/402 [==============================] - 6s 16ms/step - loss: 0.0644 - accuracy: 0.9743 - recall: 0.9675\n",
            "Epoch 29/100\n",
            "402/402 [==============================] - 6s 14ms/step - loss: 0.0640 - accuracy: 0.9740 - recall: 0.9672\n",
            "Epoch 30/100\n",
            "402/402 [==============================] - 6s 16ms/step - loss: 0.0636 - accuracy: 0.9741 - recall: 0.9689\n",
            "Epoch 31/100\n",
            "402/402 [==============================] - 6s 14ms/step - loss: 0.0637 - accuracy: 0.9751 - recall: 0.9689\n",
            "Epoch 32/100\n",
            "402/402 [==============================] - 7s 17ms/step - loss: 0.0627 - accuracy: 0.9743 - recall: 0.9668\n",
            "Epoch 33/100\n",
            "402/402 [==============================] - 5s 14ms/step - loss: 0.0625 - accuracy: 0.9745 - recall: 0.9678\n",
            "Epoch 34/100\n",
            "402/402 [==============================] - 6s 16ms/step - loss: 0.0621 - accuracy: 0.9761 - recall: 0.9694\n",
            "Epoch 35/100\n",
            "402/402 [==============================] - 6s 15ms/step - loss: 0.0621 - accuracy: 0.9756 - recall: 0.9694\n",
            "Epoch 36/100\n",
            "402/402 [==============================] - 7s 18ms/step - loss: 0.0616 - accuracy: 0.9757 - recall: 0.9690\n",
            "Epoch 37/100\n",
            "402/402 [==============================] - 5s 13ms/step - loss: 0.0613 - accuracy: 0.9752 - recall: 0.9696\n",
            "Epoch 38/100\n",
            "402/402 [==============================] - 7s 17ms/step - loss: 0.0610 - accuracy: 0.9755 - recall: 0.9692\n",
            "Epoch 39/100\n",
            "402/402 [==============================] - 6s 15ms/step - loss: 0.0611 - accuracy: 0.9755 - recall: 0.9693\n",
            "Epoch 40/100\n",
            "402/402 [==============================] - 6s 16ms/step - loss: 0.0605 - accuracy: 0.9757 - recall: 0.9700\n",
            "Epoch 41/100\n",
            "402/402 [==============================] - 6s 15ms/step - loss: 0.0607 - accuracy: 0.9756 - recall: 0.9690\n",
            "Epoch 42/100\n",
            "402/402 [==============================] - 7s 16ms/step - loss: 0.0599 - accuracy: 0.9761 - recall: 0.9700\n",
            "Epoch 43/100\n",
            "402/402 [==============================] - 6s 15ms/step - loss: 0.0601 - accuracy: 0.9756 - recall: 0.9687\n",
            "Epoch 44/100\n",
            "402/402 [==============================] - 6s 14ms/step - loss: 0.0589 - accuracy: 0.9765 - recall: 0.9706\n",
            "Epoch 45/100\n",
            "402/402 [==============================] - 8s 19ms/step - loss: 0.0595 - accuracy: 0.9761 - recall: 0.9708\n",
            "Epoch 46/100\n",
            "402/402 [==============================] - 6s 15ms/step - loss: 0.0594 - accuracy: 0.9771 - recall: 0.9704\n",
            "Epoch 47/100\n",
            "402/402 [==============================] - 7s 17ms/step - loss: 0.0590 - accuracy: 0.9768 - recall: 0.9711\n",
            "Epoch 48/100\n",
            "402/402 [==============================] - 6s 15ms/step - loss: 0.0588 - accuracy: 0.9770 - recall: 0.9719\n",
            "Epoch 49/100\n",
            "402/402 [==============================] - 7s 17ms/step - loss: 0.0584 - accuracy: 0.9768 - recall: 0.9692\n",
            "Epoch 50/100\n",
            "402/402 [==============================] - 6s 14ms/step - loss: 0.0581 - accuracy: 0.9768 - recall: 0.9710\n",
            "Epoch 51/100\n",
            "402/402 [==============================] - 7s 17ms/step - loss: 0.0588 - accuracy: 0.9768 - recall: 0.9711\n",
            "Epoch 52/100\n",
            "402/402 [==============================] - 6s 14ms/step - loss: 0.0584 - accuracy: 0.9767 - recall: 0.9699\n",
            "Epoch 53/100\n",
            "402/402 [==============================] - 7s 17ms/step - loss: 0.0579 - accuracy: 0.9768 - recall: 0.9710\n",
            "Epoch 54/100\n",
            "402/402 [==============================] - 6s 14ms/step - loss: 0.0580 - accuracy: 0.9768 - recall: 0.9710\n",
            "Epoch 55/100\n",
            "402/402 [==============================] - 7s 18ms/step - loss: 0.0584 - accuracy: 0.9768 - recall: 0.9700\n",
            "Epoch 56/100\n",
            "402/402 [==============================] - 6s 14ms/step - loss: 0.0580 - accuracy: 0.9768 - recall: 0.9703\n",
            "Epoch 57/100\n",
            "402/402 [==============================] - 6s 15ms/step - loss: 0.0579 - accuracy: 0.9768 - recall: 0.9704\n",
            "Epoch 58/100\n",
            "402/402 [==============================] - 6s 14ms/step - loss: 0.0575 - accuracy: 0.9770 - recall: 0.9711\n",
            "Epoch 59/100\n",
            "402/402 [==============================] - 7s 17ms/step - loss: 0.0573 - accuracy: 0.9766 - recall: 0.9699\n",
            "Epoch 60/100\n",
            "402/402 [==============================] - 6s 15ms/step - loss: 0.0565 - accuracy: 0.9774 - recall: 0.9703\n",
            "Epoch 61/100\n",
            "402/402 [==============================] - 6s 16ms/step - loss: 0.0570 - accuracy: 0.9768 - recall: 0.9715\n",
            "Epoch 62/100\n",
            "402/402 [==============================] - 7s 17ms/step - loss: 0.0567 - accuracy: 0.9775 - recall: 0.9715\n",
            "Epoch 63/100\n",
            "402/402 [==============================] - 5s 13ms/step - loss: 0.0566 - accuracy: 0.9771 - recall: 0.9708\n",
            "Epoch 64/100\n",
            "402/402 [==============================] - 7s 18ms/step - loss: 0.0564 - accuracy: 0.9781 - recall: 0.9715\n",
            "Epoch 65/100\n",
            "402/402 [==============================] - 6s 15ms/step - loss: 0.0576 - accuracy: 0.9775 - recall: 0.9712\n",
            "Epoch 66/100\n",
            "402/402 [==============================] - 7s 17ms/step - loss: 0.0568 - accuracy: 0.9777 - recall: 0.9715\n",
            "Epoch 67/100\n",
            "402/402 [==============================] - 6s 15ms/step - loss: 0.0571 - accuracy: 0.9770 - recall: 0.9707\n",
            "Epoch 68/100\n",
            "402/402 [==============================] - 7s 18ms/step - loss: 0.0564 - accuracy: 0.9779 - recall: 0.9706\n",
            "Epoch 69/100\n",
            "402/402 [==============================] - 5s 12ms/step - loss: 0.0562 - accuracy: 0.9775 - recall: 0.9717\n",
            "Epoch 70/100\n",
            "402/402 [==============================] - 6s 16ms/step - loss: 0.0565 - accuracy: 0.9778 - recall: 0.9717\n",
            "Epoch 71/100\n",
            "402/402 [==============================] - 5s 13ms/step - loss: 0.0570 - accuracy: 0.9768 - recall: 0.9706\n",
            "Epoch 72/100\n",
            "402/402 [==============================] - 7s 17ms/step - loss: 0.0565 - accuracy: 0.9765 - recall: 0.9708\n",
            "Epoch 73/100\n",
            "402/402 [==============================] - 6s 16ms/step - loss: 0.0556 - accuracy: 0.9771 - recall: 0.9710\n",
            "Epoch 74/100\n",
            "402/402 [==============================] - 7s 16ms/step - loss: 0.0555 - accuracy: 0.9776 - recall: 0.9718\n",
            "Epoch 75/100\n",
            "402/402 [==============================] - 6s 14ms/step - loss: 0.0552 - accuracy: 0.9779 - recall: 0.9719\n",
            "Epoch 76/100\n",
            "402/402 [==============================] - 6s 16ms/step - loss: 0.0561 - accuracy: 0.9773 - recall: 0.9715\n",
            "Epoch 77/100\n",
            "402/402 [==============================] - 6s 16ms/step - loss: 0.0556 - accuracy: 0.9778 - recall: 0.9712\n",
            "Epoch 78/100\n",
            "402/402 [==============================] - 6s 14ms/step - loss: 0.0555 - accuracy: 0.9771 - recall: 0.9697\n",
            "Epoch 79/100\n",
            "402/402 [==============================] - 6s 15ms/step - loss: 0.0558 - accuracy: 0.9780 - recall: 0.9711\n",
            "Epoch 80/100\n",
            "402/402 [==============================] - 6s 15ms/step - loss: 0.0560 - accuracy: 0.9772 - recall: 0.9706\n",
            "Epoch 81/100\n",
            "402/402 [==============================] - 7s 18ms/step - loss: 0.0555 - accuracy: 0.9774 - recall: 0.9712\n",
            "Epoch 82/100\n",
            "402/402 [==============================] - 7s 17ms/step - loss: 0.0557 - accuracy: 0.9771 - recall: 0.9708\n",
            "Epoch 83/100\n",
            "402/402 [==============================] - 7s 18ms/step - loss: 0.0550 - accuracy: 0.9772 - recall: 0.9712\n",
            "Epoch 84/100\n",
            "402/402 [==============================] - 6s 14ms/step - loss: 0.0551 - accuracy: 0.9775 - recall: 0.9704\n",
            "Epoch 85/100\n",
            "402/402 [==============================] - 7s 18ms/step - loss: 0.0554 - accuracy: 0.9771 - recall: 0.9706\n",
            "Epoch 86/100\n",
            "402/402 [==============================] - 6s 14ms/step - loss: 0.0547 - accuracy: 0.9776 - recall: 0.9708\n",
            "Epoch 87/100\n",
            "402/402 [==============================] - 7s 16ms/step - loss: 0.0550 - accuracy: 0.9771 - recall: 0.9708\n",
            "Epoch 88/100\n",
            "402/402 [==============================] - 6s 15ms/step - loss: 0.0550 - accuracy: 0.9779 - recall: 0.9712\n",
            "Epoch 89/100\n",
            "402/402 [==============================] - 7s 17ms/step - loss: 0.0559 - accuracy: 0.9782 - recall: 0.9718\n",
            "Epoch 90/100\n",
            "402/402 [==============================] - 5s 13ms/step - loss: 0.0551 - accuracy: 0.9778 - recall: 0.9707\n",
            "Epoch 91/100\n",
            "402/402 [==============================] - 6s 16ms/step - loss: 0.0547 - accuracy: 0.9782 - recall: 0.9718\n",
            "Epoch 92/100\n",
            "402/402 [==============================] - 6s 15ms/step - loss: 0.0540 - accuracy: 0.9779 - recall: 0.9717\n",
            "Epoch 93/100\n",
            "402/402 [==============================] - 7s 17ms/step - loss: 0.0548 - accuracy: 0.9778 - recall: 0.9714\n",
            "Epoch 94/100\n",
            "402/402 [==============================] - 6s 15ms/step - loss: 0.0546 - accuracy: 0.9785 - recall: 0.9718\n",
            "Epoch 95/100\n",
            "402/402 [==============================] - 7s 17ms/step - loss: 0.0549 - accuracy: 0.9779 - recall: 0.9712\n",
            "Epoch 96/100\n",
            "402/402 [==============================] - 6s 14ms/step - loss: 0.0549 - accuracy: 0.9778 - recall: 0.9708\n",
            "Epoch 97/100\n",
            "402/402 [==============================] - 7s 16ms/step - loss: 0.0544 - accuracy: 0.9778 - recall: 0.9714\n",
            "Epoch 98/100\n",
            "402/402 [==============================] - 6s 14ms/step - loss: 0.0557 - accuracy: 0.9777 - recall: 0.9714\n",
            "Epoch 99/100\n",
            "402/402 [==============================] - 7s 17ms/step - loss: 0.0543 - accuracy: 0.9785 - recall: 0.9712\n",
            "Epoch 100/100\n",
            "402/402 [==============================] - 7s 18ms/step - loss: 0.0544 - accuracy: 0.9782 - recall: 0.9718\n"
          ]
        }
      ],
      "source": [
        "# Train the model\n",
        "fit_model = nn_model.fit(X_train_scaled,y_train, epochs=100)"
      ]
    },
    {
      "cell_type": "code",
      "execution_count": 17,
      "metadata": {
        "id": "v7NntDeYJy_n",
        "outputId": "cea5d9a4-cc9e-48d2-c5c5-54f50f9c6448",
        "colab": {
          "base_uri": "https://localhost:8080/"
        }
      },
      "outputs": [
        {
          "output_type": "stream",
          "name": "stdout",
          "text": [
            "134/134 - 1s - loss: 0.7493 - accuracy: 0.6721 - recall: 0.5314 - 1s/epoch - 10ms/step\n",
            "Loss: 0.749322772026062, Accuracy: 0.6721082329750061\n"
          ]
        }
      ],
      "source": [
        "# Evaluate the model using the test data\n",
        "model_loss, model_accuracy, model_Recall= nn_model.evaluate(X_test_scaled,y_test,verbose=2)\n",
        "print(f\"Loss: {model_loss}, Accuracy: {model_accuracy}\")\n",
        "\n"
      ]
    },
    {
      "cell_type": "code",
      "execution_count": 18,
      "metadata": {
        "id": "cx-OCRqZJy_n",
        "colab": {
          "base_uri": "https://localhost:8080/",
          "height": 17
        },
        "outputId": "f03de532-d311-448f-d40c-ca03310fc54b"
      },
      "outputs": [
        {
          "output_type": "display_data",
          "data": {
            "text/plain": [
              "<IPython.core.display.Javascript object>"
            ],
            "application/javascript": [
              "\n",
              "    async function download(id, filename, size) {\n",
              "      if (!google.colab.kernel.accessAllowed) {\n",
              "        return;\n",
              "      }\n",
              "      const div = document.createElement('div');\n",
              "      const label = document.createElement('label');\n",
              "      label.textContent = `Downloading \"${filename}\": `;\n",
              "      div.appendChild(label);\n",
              "      const progress = document.createElement('progress');\n",
              "      progress.max = size;\n",
              "      div.appendChild(progress);\n",
              "      document.body.appendChild(div);\n",
              "\n",
              "      const buffers = [];\n",
              "      let downloaded = 0;\n",
              "\n",
              "      const channel = await google.colab.kernel.comms.open(id);\n",
              "      // Send a message to notify the kernel that we're ready.\n",
              "      channel.send({})\n",
              "\n",
              "      for await (const message of channel.messages) {\n",
              "        // Send a message to notify the kernel that we're ready.\n",
              "        channel.send({})\n",
              "        if (message.buffers) {\n",
              "          for (const buffer of message.buffers) {\n",
              "            buffers.push(buffer);\n",
              "            downloaded += buffer.byteLength;\n",
              "            progress.value = downloaded;\n",
              "          }\n",
              "        }\n",
              "      }\n",
              "      const blob = new Blob(buffers, {type: 'application/binary'});\n",
              "      const a = document.createElement('a');\n",
              "      a.href = window.URL.createObjectURL(blob);\n",
              "      a.download = filename;\n",
              "      div.appendChild(a);\n",
              "      a.click();\n",
              "      div.remove();\n",
              "    }\n",
              "  "
            ]
          },
          "metadata": {}
        },
        {
          "output_type": "display_data",
          "data": {
            "text/plain": [
              "<IPython.core.display.Javascript object>"
            ],
            "application/javascript": [
              "download(\"download_e18a197c-72b2-4d6e-9465-b55883683b0d\", \"Alphabet_Soup_model1.h5\", 10226552)"
            ]
          },
          "metadata": {}
        }
      ],
      "source": [
        "# Export our model to HDF5 file\n",
        "from google.colab import files\n",
        "\n",
        "nn_model.save('/content/Alphabet_Soup_model1.h5')\n",
        "files.download('/content/Alphabet_Soup_model1.h5')"
      ]
    },
    {
      "cell_type": "code",
      "source": [
        "# Model Accuracy Graph\n",
        "plt.title('Accuracy \\n',fontsize=20)\n",
        "plt.plot(fit_model.history['accuracy'], 'red', label='Training Accuracy')\n",
        "plt.xlabel('Number of Epochs')\n",
        "plt.ylabel('Loss')\n",
        "plt.legend()\n",
        "plt.show()"
      ],
      "metadata": {
        "colab": {
          "base_uri": "https://localhost:8080/",
          "height": 512
        },
        "id": "N6PCnjRzcXFW",
        "outputId": "9ec64f07-bdf0-49c0-cac8-b8a0b5318d65"
      },
      "execution_count": 19,
      "outputs": [
        {
          "output_type": "display_data",
          "data": {
            "text/plain": [
              "<Figure size 640x480 with 1 Axes>"
            ],
            "image/png": "[encoded data removed]"
          },
          "metadata": {}
        }
      ]
    },
    {
      "cell_type": "markdown",
      "source": [
        "OPTIMIZATION 1\n"
      ],
      "metadata": {
        "id": "6DPel8-ZFL9j"
      }
    },
    {
      "cell_type": "code",
      "source": [
        "# Define the model - deep neural net, i.e., the number of input features and hidden nodes for each layer.\n",
        "number_input_features = len(X_train_scaled[0])\n",
        "\n",
        "nn_model2 = tf.keras.models.Sequential()\n",
        "\n",
        "# First hidden layer\n",
        "nn_model2.add(tf.keras.layers.Dense(units= 160, input_dim= number_input_features, activation='relu'))\n",
        "\n",
        "# Second hidden layer\n",
        "nn_model2.add(tf.keras.layers.Dense(units= 60, activation='relu'))\n",
        "\n",
        "# Output layer\n",
        "nn_model2.add(tf.keras.layers.Dense(units=1, activation='sigmoid'))\n",
        "\n",
        "# Check the structure of the model\n",
        "nn_model2.summary()"
      ],
      "metadata": {
        "colab": {
          "base_uri": "https://localhost:8080/"
        },
        "id": "x9g9CO-TFIQr",
        "outputId": "dc8b33f3-524e-4b4d-e841-2e6fe9c5fce5"
      },
      "execution_count": 20,
      "outputs": [
        {
          "output_type": "stream",
          "name": "stdout",
          "text": [
            "Model: \"sequential_1\"\n",
            "_________________________________________________________________\n",
            " Layer (type)                Output Shape              Param #   \n",
            "=================================================================\n",
            " dense_3 (Dense)             (None, 160)               1694400   \n",
            "                                                                 \n",
            " dense_4 (Dense)             (None, 60)                9660      \n",
            "                                                                 \n",
            " dense_5 (Dense)             (None, 1)                 61        \n",
            "                                                                 \n",
            "=================================================================\n",
            "Total params: 1,704,121\n",
            "Trainable params: 1,704,121\n",
            "Non-trainable params: 0\n",
            "_________________________________________________________________\n"
          ]
        }
      ]
    },
    {
      "cell_type": "code",
      "source": [
        "#Compile the model\n",
        "nn_model2.compile(loss = 'binary_crossentropy', optimizer = 'adam', metrics=['accuracy', tf.keras.metrics.Recall()])"
      ],
      "metadata": {
        "id": "UBA19Z1VFhKD"
      },
      "execution_count": 21,
      "outputs": []
    },
    {
      "cell_type": "code",
      "source": [
        "# Train the model\n",
        "fit_model2 = nn_model2.fit(X_train_scaled,y_train, epochs=100)l"
      ],
      "metadata": {
        "colab": {
          "base_uri": "https://localhost:8080/"
        },
        "id": "pc85EgaBFigQ",
        "outputId": "6bb37ba8-e6ad-40d6-d381-06e2cfa52855"
      },
      "execution_count": 22,
      "outputs": [
        {
          "output_type": "stream",
          "name": "stdout",
          "text": [
            "Epoch 1/100\n",
            "402/402 [==============================] - 17s 39ms/step - loss: 0.4933 - accuracy: 0.7730 - recall_1: 0.9087\n",
            "Epoch 2/100\n",
            "402/402 [==============================] - 14s 34ms/step - loss: 0.1149 - accuracy: 0.9612 - recall_1: 0.9560\n",
            "Epoch 3/100\n",
            "402/402 [==============================] - 14s 35ms/step - loss: 0.0822 - accuracy: 0.9681 - recall_1: 0.9602\n",
            "Epoch 4/100\n",
            "402/402 [==============================] - 13s 33ms/step - loss: 0.0778 - accuracy: 0.9677 - recall_1: 0.9595\n",
            "Epoch 5/100\n",
            "402/402 [==============================] - 15s 37ms/step - loss: 0.0758 - accuracy: 0.9687 - recall_1: 0.9598\n",
            "Epoch 6/100\n",
            "402/402 [==============================] - 16s 40ms/step - loss: 0.0751 - accuracy: 0.9692 - recall_1: 0.9605\n",
            "Epoch 7/100\n",
            "402/402 [==============================] - 14s 34ms/step - loss: 0.0750 - accuracy: 0.9686 - recall_1: 0.9618\n",
            "Epoch 8/100\n",
            "402/402 [==============================] - 12s 31ms/step - loss: 0.0725 - accuracy: 0.9696 - recall_1: 0.9625\n",
            "Epoch 9/100\n",
            "402/402 [==============================] - 11s 28ms/step - loss: 0.0720 - accuracy: 0.9703 - recall_1: 0.9616\n",
            "Epoch 10/100\n",
            "402/402 [==============================] - 13s 33ms/step - loss: 0.0711 - accuracy: 0.9700 - recall_1: 0.9634\n",
            "Epoch 11/100\n",
            "402/402 [==============================] - 14s 35ms/step - loss: 0.0714 - accuracy: 0.9708 - recall_1: 0.9632\n",
            "Epoch 12/100\n",
            "402/402 [==============================] - 15s 37ms/step - loss: 0.0710 - accuracy: 0.9708 - recall_1: 0.9627\n",
            "Epoch 13/100\n",
            "402/402 [==============================] - 13s 32ms/step - loss: 0.0700 - accuracy: 0.9701 - recall_1: 0.9633\n",
            "Epoch 14/100\n",
            "402/402 [==============================] - 13s 32ms/step - loss: 0.0697 - accuracy: 0.9717 - recall_1: 0.9647\n",
            "Epoch 15/100\n",
            "402/402 [==============================] - 13s 31ms/step - loss: 0.0693 - accuracy: 0.9707 - recall_1: 0.9658\n",
            "Epoch 16/100\n",
            "402/402 [==============================] - 15s 36ms/step - loss: 0.0682 - accuracy: 0.9728 - recall_1: 0.9661\n",
            "Epoch 17/100\n",
            "402/402 [==============================] - 14s 36ms/step - loss: 0.0678 - accuracy: 0.9718 - recall_1: 0.9665\n",
            "Epoch 18/100\n",
            "402/402 [==============================] - 14s 35ms/step - loss: 0.0675 - accuracy: 0.9727 - recall_1: 0.9665\n",
            "Epoch 19/100\n",
            "402/402 [==============================] - 14s 35ms/step - loss: 0.0669 - accuracy: 0.9730 - recall_1: 0.9671\n",
            "Epoch 20/100\n",
            "402/402 [==============================] - 13s 33ms/step - loss: 0.0666 - accuracy: 0.9727 - recall_1: 0.9671\n",
            "Epoch 21/100\n",
            "402/402 [==============================] - 12s 31ms/step - loss: 0.0660 - accuracy: 0.9738 - recall_1: 0.9680\n",
            "Epoch 22/100\n",
            "402/402 [==============================] - 13s 33ms/step - loss: 0.0659 - accuracy: 0.9731 - recall_1: 0.9678\n",
            "Epoch 23/100\n",
            "402/402 [==============================] - 13s 33ms/step - loss: 0.0655 - accuracy: 0.9734 - recall_1: 0.9689\n",
            "Epoch 24/100\n",
            "402/402 [==============================] - 13s 32ms/step - loss: 0.0647 - accuracy: 0.9737 - recall_1: 0.9682\n",
            "Epoch 25/100\n",
            "402/402 [==============================] - 14s 34ms/step - loss: 0.0646 - accuracy: 0.9739 - recall_1: 0.9690\n",
            "Epoch 26/100\n",
            "402/402 [==============================] - 14s 36ms/step - loss: 0.0641 - accuracy: 0.9755 - recall_1: 0.9704\n",
            "Epoch 27/100\n",
            "402/402 [==============================] - 13s 32ms/step - loss: 0.0643 - accuracy: 0.9759 - recall_1: 0.9696\n",
            "Epoch 28/100\n",
            "402/402 [==============================] - 13s 33ms/step - loss: 0.0645 - accuracy: 0.9744 - recall_1: 0.9693\n",
            "Epoch 29/100\n",
            "402/402 [==============================] - 14s 35ms/step - loss: 0.0632 - accuracy: 0.9753 - recall_1: 0.9699\n",
            "Epoch 30/100\n",
            "402/402 [==============================] - 13s 34ms/step - loss: 0.0631 - accuracy: 0.9747 - recall_1: 0.9700\n",
            "Epoch 31/100\n",
            "402/402 [==============================] - 15s 36ms/step - loss: 0.0624 - accuracy: 0.9754 - recall_1: 0.9707\n",
            "Epoch 32/100\n",
            "402/402 [==============================] - 14s 36ms/step - loss: 0.0626 - accuracy: 0.9755 - recall_1: 0.9701\n",
            "Epoch 33/100\n",
            "402/402 [==============================] - 13s 32ms/step - loss: 0.0619 - accuracy: 0.9755 - recall_1: 0.9699\n",
            "Epoch 34/100\n",
            "402/402 [==============================] - 13s 31ms/step - loss: 0.0614 - accuracy: 0.9759 - recall_1: 0.9706\n",
            "Epoch 35/100\n",
            "402/402 [==============================] - 14s 36ms/step - loss: 0.0612 - accuracy: 0.9758 - recall_1: 0.9699\n",
            "Epoch 36/100\n",
            "402/402 [==============================] - 14s 35ms/step - loss: 0.0609 - accuracy: 0.9749 - recall_1: 0.9690\n",
            "Epoch 37/100\n",
            "402/402 [==============================] - 14s 34ms/step - loss: 0.0605 - accuracy: 0.9760 - recall_1: 0.9706\n",
            "Epoch 38/100\n",
            "402/402 [==============================] - 14s 35ms/step - loss: 0.0604 - accuracy: 0.9759 - recall_1: 0.9699\n",
            "Epoch 39/100\n",
            "402/402 [==============================] - 14s 34ms/step - loss: 0.0595 - accuracy: 0.9761 - recall_1: 0.9704\n",
            "Epoch 40/100\n",
            "402/402 [==============================] - 13s 31ms/step - loss: 0.0596 - accuracy: 0.9762 - recall_1: 0.9714\n",
            "Epoch 41/100\n",
            "402/402 [==============================] - 14s 35ms/step - loss: 0.0591 - accuracy: 0.9765 - recall_1: 0.9711\n",
            "Epoch 42/100\n",
            "402/402 [==============================] - 13s 33ms/step - loss: 0.0589 - accuracy: 0.9764 - recall_1: 0.9715\n",
            "Epoch 43/100\n",
            "402/402 [==============================] - 13s 32ms/step - loss: 0.0595 - accuracy: 0.9755 - recall_1: 0.9701\n",
            "Epoch 44/100\n",
            "402/402 [==============================] - 13s 32ms/step - loss: 0.0588 - accuracy: 0.9766 - recall_1: 0.9706\n",
            "Epoch 45/100\n",
            "402/402 [==============================] - 14s 35ms/step - loss: 0.0582 - accuracy: 0.9767 - recall_1: 0.9706\n",
            "Epoch 46/100\n",
            "402/402 [==============================] - 13s 32ms/step - loss: 0.0579 - accuracy: 0.9771 - recall_1: 0.9715\n",
            "Epoch 47/100\n",
            "402/402 [==============================] - 13s 33ms/step - loss: 0.0580 - accuracy: 0.9769 - recall_1: 0.9706\n",
            "Epoch 48/100\n",
            "402/402 [==============================] - 14s 34ms/step - loss: 0.0578 - accuracy: 0.9775 - recall_1: 0.9715\n",
            "Epoch 49/100\n",
            "402/402 [==============================] - 13s 33ms/step - loss: 0.0577 - accuracy: 0.9766 - recall_1: 0.9710\n",
            "Epoch 50/100\n",
            "402/402 [==============================] - 11s 28ms/step - loss: 0.0582 - accuracy: 0.9768 - recall_1: 0.9707\n",
            "Epoch 51/100\n",
            "402/402 [==============================] - 13s 32ms/step - loss: 0.0587 - accuracy: 0.9765 - recall_1: 0.9711\n",
            "Epoch 52/100\n",
            "402/402 [==============================] - 12s 31ms/step - loss: 0.0570 - accuracy: 0.9778 - recall_1: 0.9725\n",
            "Epoch 53/100\n",
            "402/402 [==============================] - 13s 32ms/step - loss: 0.0571 - accuracy: 0.9772 - recall_1: 0.9714\n",
            "Epoch 54/100\n",
            "402/402 [==============================] - 13s 32ms/step - loss: 0.0581 - accuracy: 0.9773 - recall_1: 0.9712\n",
            "Epoch 55/100\n",
            "402/402 [==============================] - 15s 36ms/step - loss: 0.0571 - accuracy: 0.9771 - recall_1: 0.9711\n",
            "Epoch 56/100\n",
            "402/402 [==============================] - 15s 36ms/step - loss: 0.0563 - accuracy: 0.9775 - recall_1: 0.9719\n",
            "Epoch 57/100\n",
            "402/402 [==============================] - 13s 32ms/step - loss: 0.0559 - accuracy: 0.9777 - recall_1: 0.9715\n",
            "Epoch 58/100\n",
            "402/402 [==============================] - 13s 33ms/step - loss: 0.0559 - accuracy: 0.9780 - recall_1: 0.9721\n",
            "Epoch 59/100\n",
            "402/402 [==============================] - 14s 34ms/step - loss: 0.0565 - accuracy: 0.9776 - recall_1: 0.9711\n",
            "Epoch 60/100\n",
            "402/402 [==============================] - 14s 34ms/step - loss: 0.0559 - accuracy: 0.9778 - recall_1: 0.9710\n",
            "Epoch 61/100\n",
            "402/402 [==============================] - 13s 32ms/step - loss: 0.0559 - accuracy: 0.9778 - recall_1: 0.9714\n",
            "Epoch 62/100\n",
            "402/402 [==============================] - 13s 33ms/step - loss: 0.0563 - accuracy: 0.9775 - recall_1: 0.9712\n",
            "Epoch 63/100\n",
            "402/402 [==============================] - 13s 32ms/step - loss: 0.0563 - accuracy: 0.9777 - recall_1: 0.9715\n",
            "Epoch 64/100\n",
            "402/402 [==============================] - 14s 34ms/step - loss: 0.0554 - accuracy: 0.9777 - recall_1: 0.9707\n",
            "Epoch 65/100\n",
            "402/402 [==============================] - 13s 32ms/step - loss: 0.0557 - accuracy: 0.9779 - recall_1: 0.9717\n",
            "Epoch 66/100\n",
            "402/402 [==============================] - 13s 31ms/step - loss: 0.0555 - accuracy: 0.9784 - recall_1: 0.9714\n",
            "Epoch 67/100\n",
            "402/402 [==============================] - 11s 27ms/step - loss: 0.0549 - accuracy: 0.9780 - recall_1: 0.9719\n",
            "Epoch 68/100\n",
            "402/402 [==============================] - 13s 32ms/step - loss: 0.0553 - accuracy: 0.9782 - recall_1: 0.9721\n",
            "Epoch 69/100\n",
            "402/402 [==============================] - 13s 32ms/step - loss: 0.0549 - accuracy: 0.9778 - recall_1: 0.9717\n",
            "Epoch 70/100\n",
            "402/402 [==============================] - 13s 32ms/step - loss: 0.0550 - accuracy: 0.9781 - recall_1: 0.9718\n",
            "Epoch 71/100\n",
            "402/402 [==============================] - 15s 37ms/step - loss: 0.0557 - accuracy: 0.9783 - recall_1: 0.9725\n",
            "Epoch 72/100\n",
            "402/402 [==============================] - 13s 32ms/step - loss: 0.0548 - accuracy: 0.9786 - recall_1: 0.9726\n",
            "Epoch 73/100\n",
            "402/402 [==============================] - 12s 31ms/step - loss: 0.0547 - accuracy: 0.9785 - recall_1: 0.9721\n",
            "Epoch 74/100\n",
            "402/402 [==============================] - 13s 32ms/step - loss: 0.0555 - accuracy: 0.9781 - recall_1: 0.9718\n",
            "Epoch 75/100\n",
            "402/402 [==============================] - 13s 33ms/step - loss: 0.0547 - accuracy: 0.9782 - recall_1: 0.9717\n",
            "Epoch 76/100\n",
            "402/402 [==============================] - 13s 33ms/step - loss: 0.0546 - accuracy: 0.9778 - recall_1: 0.9717\n",
            "Epoch 77/100\n",
            "402/402 [==============================] - 13s 32ms/step - loss: 0.0550 - accuracy: 0.9779 - recall_1: 0.9711\n",
            "Epoch 78/100\n",
            "402/402 [==============================] - 14s 34ms/step - loss: 0.0556 - accuracy: 0.9783 - recall_1: 0.9718\n",
            "Epoch 79/100\n",
            "402/402 [==============================] - 13s 33ms/step - loss: 0.0550 - accuracy: 0.9785 - recall_1: 0.9728\n",
            "Epoch 80/100\n",
            "402/402 [==============================] - 13s 33ms/step - loss: 0.0548 - accuracy: 0.9778 - recall_1: 0.9721\n",
            "Epoch 81/100\n",
            "402/402 [==============================] - 13s 32ms/step - loss: 0.0542 - accuracy: 0.9787 - recall_1: 0.9725\n",
            "Epoch 82/100\n",
            "402/402 [==============================] - 13s 33ms/step - loss: 0.0558 - accuracy: 0.9782 - recall_1: 0.9724\n",
            "Epoch 83/100\n",
            "402/402 [==============================] - 14s 35ms/step - loss: 0.0545 - accuracy: 0.9782 - recall_1: 0.9721\n",
            "Epoch 84/100\n",
            "402/402 [==============================] - 14s 34ms/step - loss: 0.0539 - accuracy: 0.9780 - recall_1: 0.9718\n",
            "Epoch 85/100\n",
            "402/402 [==============================] - 14s 34ms/step - loss: 0.0537 - accuracy: 0.9784 - recall_1: 0.9722\n",
            "Epoch 86/100\n",
            "402/402 [==============================] - 12s 31ms/step - loss: 0.0549 - accuracy: 0.9780 - recall_1: 0.9715\n",
            "Epoch 87/100\n",
            "402/402 [==============================] - 14s 35ms/step - loss: 0.0540 - accuracy: 0.9783 - recall_1: 0.9718\n",
            "Epoch 88/100\n",
            "402/402 [==============================] - 13s 33ms/step - loss: 0.0539 - accuracy: 0.9785 - recall_1: 0.9725\n",
            "Epoch 89/100\n",
            "402/402 [==============================] - 15s 36ms/step - loss: 0.0535 - accuracy: 0.9783 - recall_1: 0.9725\n",
            "Epoch 90/100\n",
            "402/402 [==============================] - 14s 34ms/step - loss: 0.0537 - accuracy: 0.9786 - recall_1: 0.9732\n",
            "Epoch 91/100\n",
            "402/402 [==============================] - 14s 36ms/step - loss: 0.0540 - accuracy: 0.9779 - recall_1: 0.9712\n",
            "Epoch 92/100\n",
            "402/402 [==============================] - 14s 35ms/step - loss: 0.0540 - accuracy: 0.9783 - recall_1: 0.9725\n",
            "Epoch 93/100\n",
            "402/402 [==============================] - 14s 36ms/step - loss: 0.0542 - accuracy: 0.9783 - recall_1: 0.9724\n",
            "Epoch 94/100\n",
            "402/402 [==============================] - 17s 42ms/step - loss: 0.0535 - accuracy: 0.9785 - recall_1: 0.9721\n",
            "Epoch 95/100\n",
            "402/402 [==============================] - 13s 32ms/step - loss: 0.0536 - accuracy: 0.9784 - recall_1: 0.9721\n",
            "Epoch 96/100\n",
            "402/402 [==============================] - 14s 34ms/step - loss: 0.0542 - accuracy: 0.9782 - recall_1: 0.9718\n",
            "Epoch 97/100\n",
            "402/402 [==============================] - 13s 32ms/step - loss: 0.0537 - accuracy: 0.9779 - recall_1: 0.9721\n",
            "Epoch 98/100\n",
            "402/402 [==============================] - 13s 33ms/step - loss: 0.0539 - accuracy: 0.9788 - recall_1: 0.9728\n",
            "Epoch 99/100\n",
            "402/402 [==============================] - 14s 35ms/step - loss: 0.0533 - accuracy: 0.9785 - recall_1: 0.9724\n",
            "Epoch 100/100\n",
            "402/402 [==============================] - 15s 37ms/step - loss: 0.0528 - accuracy: 0.9784 - recall_1: 0.9724\n"
          ]
        }
      ]
    },
    {
      "cell_type": "code",
      "source": [
        "# Evaluate the model using the test data\n",
        "model_loss, model_accuracy, model_Recall= nn_model2.evaluate(X_test_scaled,y_test,verbose=2)\n",
        "print(f\"Loss: {model_loss}, Accuracy: {model_accuracy}\")"
      ],
      "metadata": {
        "id": "EvM5CRlxtX8A",
        "colab": {
          "base_uri": "https://localhost:8080/"
        },
        "outputId": "57d5f0ec-721f-4e5e-8a7a-928d33b4092a"
      },
      "execution_count": 23,
      "outputs": [
        {
          "output_type": "stream",
          "name": "stdout",
          "text": [
            "134/134 - 1s - loss: 0.8296 - accuracy: 0.7246 - recall_1: 0.6713 - 1s/epoch - 9ms/step\n",
            "Loss: 0.8296064734458923, Accuracy: 0.7245802283287048\n"
          ]
        }
      ]
    },
    {
      "cell_type": "code",
      "source": [
        "# Model Accuracy Graph\n",
        "plt.title('Accuracy \\n',fontsize=20)\n",
        "plt.plot(fit_model2.history['accuracy'], 'red', label='Training Accuracy')\n",
        "plt.xlabel('Number of Epochs')\n",
        "plt.ylabel('Loss')\n",
        "plt.legend()\n",
        "plt.show()"
      ],
      "metadata": {
        "id": "cNX8AZHRtTXT",
        "colab": {
          "base_uri": "https://localhost:8080/",
          "height": 512
        },
        "outputId": "84815a45-0cae-4d72-bedb-5990156b1f06"
      },
      "execution_count": 24,
      "outputs": [
        {
          "output_type": "display_data",
          "data": {
            "text/plain": [
              "<Figure size 640x480 with 1 Axes>"
            ],
            "image/png": "[encoded data removed]"
          },
          "metadata": {}
        }
      ]
    },
    {
      "cell_type": "code",
      "source": [
        "# Export our model to HDF5 file\n",
        "from google.colab import files\n",
        "\n",
        "nn_model2.save('/content/Alphabet_Soup_model_Optimized.h5')\n",
        "files.download('/content/Alphabet_Soup_model_Optimized.h5')"
      ],
      "metadata": {
        "colab": {
          "base_uri": "https://localhost:8080/",
          "height": 17
        },
        "id": "3FopQmiZVHsA",
        "outputId": "e78b11fc-cf71-4a93-8f7c-7c3de050d0cf"
      },
      "execution_count": 26,
      "outputs": [
        {
          "output_type": "display_data",
          "data": {
            "text/plain": [
              "<IPython.core.display.Javascript object>"
            ],
            "application/javascript": [
              "\n",
              "    async function download(id, filename, size) {\n",
              "      if (!google.colab.kernel.accessAllowed) {\n",
              "        return;\n",
              "      }\n",
              "      const div = document.createElement('div');\n",
              "      const label = document.createElement('label');\n",
              "      label.textContent = `Downloading \"${filename}\": `;\n",
              "      div.appendChild(label);\n",
              "      const progress = document.createElement('progress');\n",
              "      progress.max = size;\n",
              "      div.appendChild(progress);\n",
              "      document.body.appendChild(div);\n",
              "\n",
              "      const buffers = [];\n",
              "      let downloaded = 0;\n",
              "\n",
              "      const channel = await google.colab.kernel.comms.open(id);\n",
              "      // Send a message to notify the kernel that we're ready.\n",
              "      channel.send({})\n",
              "\n",
              "      for await (const message of channel.messages) {\n",
              "        // Send a message to notify the kernel that we're ready.\n",
              "        channel.send({})\n",
              "        if (message.buffers) {\n",
              "          for (const buffer of message.buffers) {\n",
              "            buffers.push(buffer);\n",
              "            downloaded += buffer.byteLength;\n",
              "            progress.value = downloaded;\n",
              "          }\n",
              "        }\n",
              "      }\n",
              "      const blob = new Blob(buffers, {type: 'application/binary'});\n",
              "      const a = document.createElement('a');\n",
              "      a.href = window.URL.createObjectURL(blob);\n",
              "      a.download = filename;\n",
              "      div.appendChild(a);\n",
              "      a.click();\n",
              "      div.remove();\n",
              "    }\n",
              "  "
            ]
          },
          "metadata": {}
        },
        {
          "output_type": "display_data",
          "data": {
            "text/plain": [
              "<IPython.core.display.Javascript object>"
            ],
            "application/javascript": [
              "download(\"download_4c3c21a8-0d7c-4a4a-a03d-8e7fa3f89a5a\", \"Alphabet_Soup_model_Optimized.h5\", 20481080)"
            ]
          },
          "metadata": {}
        }
      ]
    },
    {
      "cell_type": "markdown",
      "source": [
        "OPTIMIZATION 2"
      ],
      "metadata": {
        "id": "5KwA8E_gsCS9"
      }
    },
    {
      "cell_type": "code",
      "source": [
        "# Define the model - deep neural net, i.e., the number of input features and hidden nodes for each layer.\n",
        "number_input_features = len(X_train_scaled[0])\n",
        "\n",
        "nn_model3 = tf.keras.models.Sequential()\n",
        "\n",
        "# First hidden layer\n",
        "nn_model3.add(tf.keras.layers.Dense(units= 320, input_dim= number_input_features, activation='relu'))\n",
        "\n",
        "# Second hidden layer\n",
        "nn_model3.add(tf.keras.layers.Dense(units= 120, activation='relu'))\n",
        "\n",
        "# Output layer\n",
        "nn_model3.add(tf.keras.layers.Dense(units=1, activation='sigmoid'))\n",
        "\n",
        "# Check the structure of the model\n",
        "nn_model3.summary()"
      ],
      "metadata": {
        "colab": {
          "base_uri": "https://localhost:8080/"
        },
        "outputId": "a75841ba-a166-4a0f-b8be-75be88bb5f1b",
        "id": "wppIZFhasGcM"
      },
      "execution_count": 27,
      "outputs": [
        {
          "output_type": "stream",
          "name": "stdout",
          "text": [
            "Model: \"sequential_2\"\n",
            "_________________________________________________________________\n",
            " Layer (type)                Output Shape              Param #   \n",
            "=================================================================\n",
            " dense_6 (Dense)             (None, 320)               3388800   \n",
            "                                                                 \n",
            " dense_7 (Dense)             (None, 120)               38520     \n",
            "                                                                 \n",
            " dense_8 (Dense)             (None, 1)                 121       \n",
            "                                                                 \n",
            "=================================================================\n",
            "Total params: 3,427,441\n",
            "Trainable params: 3,427,441\n",
            "Non-trainable params: 0\n",
            "_________________________________________________________________\n"
          ]
        }
      ]
    },
    {
      "cell_type": "code",
      "source": [
        "#Compile the model\n",
        "nn_model3.compile(loss = 'binary_crossentropy', optimizer = 'adam', metrics=['accuracy', tf.keras.metrics.Recall()])"
      ],
      "metadata": {
        "id": "8h9Q9gujsjpL"
      },
      "execution_count": 32,
      "outputs": []
    },
    {
      "cell_type": "code",
      "source": [
        "# Train the model\n",
        "fit_model3 = nn_model3.fit(X_train_scaled,y_train, epochs=100)"
      ],
      "metadata": {
        "colab": {
          "base_uri": "https://localhost:8080/"
        },
        "id": "zRrlZeNxsp3A",
        "outputId": "220d33d2-7ebc-4149-99d1-c76c87c08411"
      },
      "execution_count": 34,
      "outputs": [
        {
          "output_type": "stream",
          "name": "stdout",
          "text": [
            "Epoch 1/100\n",
            "402/402 [==============================] - 27s 62ms/step - loss: 0.0543 - accuracy: 0.9787 - recall_3: 0.9717\n",
            "Epoch 2/100\n",
            "402/402 [==============================] - 26s 64ms/step - loss: 0.0542 - accuracy: 0.9785 - recall_3: 0.9719\n",
            "Epoch 3/100\n",
            "402/402 [==============================] - 24s 59ms/step - loss: 0.0543 - accuracy: 0.9785 - recall_3: 0.9726\n",
            "Epoch 4/100\n",
            "402/402 [==============================] - 24s 59ms/step - loss: 0.0542 - accuracy: 0.9784 - recall_3: 0.9715\n",
            "Epoch 5/100\n",
            "402/402 [==============================] - 23s 56ms/step - loss: 0.0537 - accuracy: 0.9788 - recall_3: 0.9725\n",
            "Epoch 6/100\n",
            "402/402 [==============================] - 25s 61ms/step - loss: 0.0540 - accuracy: 0.9784 - recall_3: 0.9719\n",
            "Epoch 7/100\n",
            "402/402 [==============================] - 25s 62ms/step - loss: 0.0532 - accuracy: 0.9791 - recall_3: 0.9721\n",
            "Epoch 8/100\n",
            "402/402 [==============================] - 26s 65ms/step - loss: 0.0539 - accuracy: 0.9785 - recall_3: 0.9715\n",
            "Epoch 9/100\n",
            "402/402 [==============================] - 25s 62ms/step - loss: 0.0544 - accuracy: 0.9782 - recall_3: 0.9711\n",
            "Epoch 10/100\n",
            "402/402 [==============================] - 28s 70ms/step - loss: 0.0532 - accuracy: 0.9789 - recall_3: 0.9718\n",
            "Epoch 11/100\n",
            "402/402 [==============================] - 25s 63ms/step - loss: 0.0535 - accuracy: 0.9786 - recall_3: 0.9714\n",
            "Epoch 12/100\n",
            "402/402 [==============================] - 25s 62ms/step - loss: 0.0531 - accuracy: 0.9787 - recall_3: 0.9714\n",
            "Epoch 13/100\n",
            "402/402 [==============================] - 25s 63ms/step - loss: 0.0532 - accuracy: 0.9785 - recall_3: 0.9712\n",
            "Epoch 14/100\n",
            "402/402 [==============================] - 25s 62ms/step - loss: 0.0531 - accuracy: 0.9789 - recall_3: 0.9714\n",
            "Epoch 15/100\n",
            "402/402 [==============================] - 24s 60ms/step - loss: 0.0530 - accuracy: 0.9786 - recall_3: 0.9717\n",
            "Epoch 16/100\n",
            "402/402 [==============================] - 26s 64ms/step - loss: 0.0532 - accuracy: 0.9784 - recall_3: 0.9711\n",
            "Epoch 17/100\n",
            "402/402 [==============================] - 28s 69ms/step - loss: 0.0531 - accuracy: 0.9792 - recall_3: 0.9719\n",
            "Epoch 18/100\n",
            "402/402 [==============================] - 24s 61ms/step - loss: 0.0564 - accuracy: 0.9774 - recall_3: 0.9703\n",
            "Epoch 19/100\n",
            "402/402 [==============================] - 26s 64ms/step - loss: 0.0535 - accuracy: 0.9787 - recall_3: 0.9717\n",
            "Epoch 20/100\n",
            "402/402 [==============================] - 24s 60ms/step - loss: 0.0530 - accuracy: 0.9790 - recall_3: 0.9715\n",
            "Epoch 21/100\n",
            "402/402 [==============================] - 25s 61ms/step - loss: 0.0523 - accuracy: 0.9787 - recall_3: 0.9712\n",
            "Epoch 22/100\n",
            "402/402 [==============================] - 26s 65ms/step - loss: 0.0529 - accuracy: 0.9783 - recall_3: 0.9715\n",
            "Epoch 23/100\n",
            "402/402 [==============================] - 27s 68ms/step - loss: 0.0522 - accuracy: 0.9788 - recall_3: 0.9715\n",
            "Epoch 24/100\n",
            "402/402 [==============================] - 26s 64ms/step - loss: 0.0520 - accuracy: 0.9788 - recall_3: 0.9722\n",
            "Epoch 25/100\n",
            "402/402 [==============================] - 26s 65ms/step - loss: 0.0530 - accuracy: 0.9789 - recall_3: 0.9714\n",
            "Epoch 26/100\n",
            "402/402 [==============================] - 26s 65ms/step - loss: 0.0521 - accuracy: 0.9791 - recall_3: 0.9718\n",
            "Epoch 27/100\n",
            "402/402 [==============================] - 25s 62ms/step - loss: 0.0524 - accuracy: 0.9787 - recall_3: 0.9711\n",
            "Epoch 28/100\n",
            "402/402 [==============================] - 24s 60ms/step - loss: 0.0529 - accuracy: 0.9788 - recall_3: 0.9717\n",
            "Epoch 29/100\n",
            "402/402 [==============================] - 26s 64ms/step - loss: 0.0525 - accuracy: 0.9786 - recall_3: 0.9712\n",
            "Epoch 30/100\n",
            "402/402 [==============================] - 25s 61ms/step - loss: 0.0526 - accuracy: 0.9791 - recall_3: 0.9712\n",
            "Epoch 31/100\n",
            "402/402 [==============================] - 24s 61ms/step - loss: 0.0527 - accuracy: 0.9785 - recall_3: 0.9712\n",
            "Epoch 32/100\n",
            "402/402 [==============================] - 25s 63ms/step - loss: 0.0524 - accuracy: 0.9789 - recall_3: 0.9711\n",
            "Epoch 33/100\n",
            "402/402 [==============================] - 23s 57ms/step - loss: 0.0525 - accuracy: 0.9792 - recall_3: 0.9718\n",
            "Epoch 34/100\n",
            "402/402 [==============================] - 25s 61ms/step - loss: 0.0526 - accuracy: 0.9787 - recall_3: 0.9715\n",
            "Epoch 35/100\n",
            "402/402 [==============================] - 23s 58ms/step - loss: 0.0555 - accuracy: 0.9785 - recall_3: 0.9711\n",
            "Epoch 36/100\n",
            "402/402 [==============================] - 26s 64ms/step - loss: 0.0554 - accuracy: 0.9785 - recall_3: 0.9715\n",
            "Epoch 37/100\n",
            "402/402 [==============================] - 27s 67ms/step - loss: 0.0518 - accuracy: 0.9796 - recall_3: 0.9718\n",
            "Epoch 38/100\n",
            "402/402 [==============================] - 25s 63ms/step - loss: 0.0518 - accuracy: 0.9792 - recall_3: 0.9715\n",
            "Epoch 39/100\n",
            "402/402 [==============================] - 25s 63ms/step - loss: 0.0518 - accuracy: 0.9785 - recall_3: 0.9711\n",
            "Epoch 40/100\n",
            "402/402 [==============================] - 26s 64ms/step - loss: 0.0522 - accuracy: 0.9789 - recall_3: 0.9710\n",
            "Epoch 41/100\n",
            "402/402 [==============================] - 26s 64ms/step - loss: 0.0520 - accuracy: 0.9790 - recall_3: 0.9718\n",
            "Epoch 42/100\n",
            "402/402 [==============================] - 24s 60ms/step - loss: 0.0517 - accuracy: 0.9792 - recall_3: 0.9715\n",
            "Epoch 43/100\n",
            "402/402 [==============================] - 26s 64ms/step - loss: 0.0522 - accuracy: 0.9792 - recall_3: 0.9712\n",
            "Epoch 44/100\n",
            "402/402 [==============================] - 26s 65ms/step - loss: 0.0518 - accuracy: 0.9791 - recall_3: 0.9714\n",
            "Epoch 45/100\n",
            "402/402 [==============================] - 25s 63ms/step - loss: 0.0520 - accuracy: 0.9792 - recall_3: 0.9712\n",
            "Epoch 46/100\n",
            "402/402 [==============================] - 26s 64ms/step - loss: 0.0516 - accuracy: 0.9795 - recall_3: 0.9718\n",
            "Epoch 47/100\n",
            "402/402 [==============================] - 24s 59ms/step - loss: 0.0518 - accuracy: 0.9794 - recall_3: 0.9714\n",
            "Epoch 48/100\n",
            "402/402 [==============================] - 22s 56ms/step - loss: 0.0523 - accuracy: 0.9785 - recall_3: 0.9710\n",
            "Epoch 49/100\n",
            "402/402 [==============================] - 25s 61ms/step - loss: 0.0519 - accuracy: 0.9792 - recall_3: 0.9714\n",
            "Epoch 50/100\n",
            "402/402 [==============================] - 27s 67ms/step - loss: 0.0517 - accuracy: 0.9788 - recall_3: 0.9714\n",
            "Epoch 51/100\n",
            "402/402 [==============================] - 25s 61ms/step - loss: 0.0511 - accuracy: 0.9792 - recall_3: 0.9712\n",
            "Epoch 52/100\n",
            "402/402 [==============================] - 24s 61ms/step - loss: 0.0525 - accuracy: 0.9789 - recall_3: 0.9721\n",
            "Epoch 53/100\n",
            "402/402 [==============================] - 26s 65ms/step - loss: 0.0519 - accuracy: 0.9794 - recall_3: 0.9715\n",
            "Epoch 54/100\n",
            "402/402 [==============================] - 24s 61ms/step - loss: 0.0526 - accuracy: 0.9788 - recall_3: 0.9710\n",
            "Epoch 55/100\n",
            "402/402 [==============================] - 25s 62ms/step - loss: 0.0519 - accuracy: 0.9792 - recall_3: 0.9718\n",
            "Epoch 56/100\n",
            "402/402 [==============================] - 25s 62ms/step - loss: 0.0518 - accuracy: 0.9794 - recall_3: 0.9718\n",
            "Epoch 57/100\n",
            "402/402 [==============================] - 26s 65ms/step - loss: 0.0519 - accuracy: 0.9791 - recall_3: 0.9711\n",
            "Epoch 58/100\n",
            "402/402 [==============================] - 26s 64ms/step - loss: 0.0516 - accuracy: 0.9793 - recall_3: 0.9708\n",
            "Epoch 59/100\n",
            "402/402 [==============================] - 22s 54ms/step - loss: 0.0520 - accuracy: 0.9794 - recall_3: 0.9717\n",
            "Epoch 60/100\n",
            "402/402 [==============================] - 24s 61ms/step - loss: 0.0518 - accuracy: 0.9789 - recall_3: 0.9715\n",
            "Epoch 61/100\n",
            "402/402 [==============================] - 26s 64ms/step - loss: 0.0516 - accuracy: 0.9792 - recall_3: 0.9715\n",
            "Epoch 62/100\n",
            "402/402 [==============================] - 24s 60ms/step - loss: 0.0516 - accuracy: 0.9794 - recall_3: 0.9715\n",
            "Epoch 63/100\n",
            "402/402 [==============================] - 24s 61ms/step - loss: 0.0524 - accuracy: 0.9791 - recall_3: 0.9712\n",
            "Epoch 64/100\n",
            "402/402 [==============================] - 27s 66ms/step - loss: 0.0518 - accuracy: 0.9791 - recall_3: 0.9715\n",
            "Epoch 65/100\n",
            "402/402 [==============================] - 24s 60ms/step - loss: 0.0517 - accuracy: 0.9796 - recall_3: 0.9718\n",
            "Epoch 66/100\n",
            "402/402 [==============================] - 25s 61ms/step - loss: 0.0513 - accuracy: 0.9790 - recall_3: 0.9714\n",
            "Epoch 67/100\n",
            "402/402 [==============================] - 24s 60ms/step - loss: 0.0520 - accuracy: 0.9791 - recall_3: 0.9714\n",
            "Epoch 68/100\n",
            "402/402 [==============================] - 25s 61ms/step - loss: 0.0518 - accuracy: 0.9792 - recall_3: 0.9714\n",
            "Epoch 69/100\n",
            "402/402 [==============================] - 23s 57ms/step - loss: 0.0512 - accuracy: 0.9791 - recall_3: 0.9717\n",
            "Epoch 70/100\n",
            "402/402 [==============================] - 23s 58ms/step - loss: 0.0776 - accuracy: 0.9775 - recall_3: 0.9693\n",
            "Epoch 71/100\n",
            "402/402 [==============================] - 22s 55ms/step - loss: 0.0563 - accuracy: 0.9782 - recall_3: 0.9714\n",
            "Epoch 72/100\n",
            "402/402 [==============================] - 24s 61ms/step - loss: 0.0539 - accuracy: 0.9796 - recall_3: 0.9719\n",
            "Epoch 73/100\n",
            "402/402 [==============================] - 25s 61ms/step - loss: 0.0513 - accuracy: 0.9790 - recall_3: 0.9717\n",
            "Epoch 74/100\n",
            "402/402 [==============================] - 25s 61ms/step - loss: 0.0510 - accuracy: 0.9799 - recall_3: 0.9724\n",
            "Epoch 75/100\n",
            "402/402 [==============================] - 24s 59ms/step - loss: 0.0504 - accuracy: 0.9796 - recall_3: 0.9721\n",
            "Epoch 76/100\n",
            "402/402 [==============================] - 25s 61ms/step - loss: 0.0507 - accuracy: 0.9792 - recall_3: 0.9718\n",
            "Epoch 77/100\n",
            "402/402 [==============================] - 24s 60ms/step - loss: 0.0507 - accuracy: 0.9795 - recall_3: 0.9718\n",
            "Epoch 78/100\n",
            "402/402 [==============================] - 21s 53ms/step - loss: 0.0511 - accuracy: 0.9793 - recall_3: 0.9725\n",
            "Epoch 79/100\n",
            "402/402 [==============================] - 23s 57ms/step - loss: 0.0505 - accuracy: 0.9791 - recall_3: 0.9707\n",
            "Epoch 80/100\n",
            "402/402 [==============================] - 26s 64ms/step - loss: 0.0509 - accuracy: 0.9792 - recall_3: 0.9717\n",
            "Epoch 81/100\n",
            "402/402 [==============================] - 22s 55ms/step - loss: 0.0510 - accuracy: 0.9790 - recall_3: 0.9717\n",
            "Epoch 82/100\n",
            "402/402 [==============================] - 22s 56ms/step - loss: 0.0507 - accuracy: 0.9795 - recall_3: 0.9718\n",
            "Epoch 83/100\n",
            "402/402 [==============================] - 24s 59ms/step - loss: 0.0508 - accuracy: 0.9796 - recall_3: 0.9717\n",
            "Epoch 84/100\n",
            "402/402 [==============================] - 26s 66ms/step - loss: 0.0507 - accuracy: 0.9797 - recall_3: 0.9722\n",
            "Epoch 85/100\n",
            "402/402 [==============================] - 24s 60ms/step - loss: 0.0506 - accuracy: 0.9793 - recall_3: 0.9718\n",
            "Epoch 86/100\n",
            "402/402 [==============================] - 23s 58ms/step - loss: 0.0510 - accuracy: 0.9795 - recall_3: 0.9722\n",
            "Epoch 87/100\n",
            "402/402 [==============================] - 23s 57ms/step - loss: 0.0520 - accuracy: 0.9791 - recall_3: 0.9722\n",
            "Epoch 88/100\n",
            "402/402 [==============================] - 24s 59ms/step - loss: 0.0513 - accuracy: 0.9791 - recall_3: 0.9715\n",
            "Epoch 89/100\n",
            "402/402 [==============================] - 24s 61ms/step - loss: 0.0515 - accuracy: 0.9793 - recall_3: 0.9715\n",
            "Epoch 90/100\n",
            "402/402 [==============================] - 23s 58ms/step - loss: 0.0515 - accuracy: 0.9794 - recall_3: 0.9718\n",
            "Epoch 91/100\n",
            "402/402 [==============================] - 26s 64ms/step - loss: 0.0514 - accuracy: 0.9795 - recall_3: 0.9718\n",
            "Epoch 92/100\n",
            "402/402 [==============================] - 25s 63ms/step - loss: 0.0506 - accuracy: 0.9795 - recall_3: 0.9719\n",
            "Epoch 93/100\n",
            "402/402 [==============================] - 23s 58ms/step - loss: 0.0507 - accuracy: 0.9795 - recall_3: 0.9718\n",
            "Epoch 94/100\n",
            "402/402 [==============================] - 25s 63ms/step - loss: 0.0503 - accuracy: 0.9792 - recall_3: 0.9722\n",
            "Epoch 95/100\n",
            "402/402 [==============================] - 26s 64ms/step - loss: 0.0516 - accuracy: 0.9793 - recall_3: 0.9721\n",
            "Epoch 96/100\n",
            "402/402 [==============================] - 24s 61ms/step - loss: 0.0508 - accuracy: 0.9797 - recall_3: 0.9726\n",
            "Epoch 97/100\n",
            "402/402 [==============================] - 26s 64ms/step - loss: 0.0508 - accuracy: 0.9792 - recall_3: 0.9718\n",
            "Epoch 98/100\n",
            "402/402 [==============================] - 25s 63ms/step - loss: 0.0517 - accuracy: 0.9789 - recall_3: 0.9715\n",
            "Epoch 99/100\n",
            "402/402 [==============================] - 23s 58ms/step - loss: 0.0502 - accuracy: 0.9796 - recall_3: 0.9722\n",
            "Epoch 100/100\n",
            "402/402 [==============================] - 24s 59ms/step - loss: 0.0508 - accuracy: 0.9794 - recall_3: 0.9712\n"
          ]
        }
      ]
    },
    {
      "cell_type": "code",
      "source": [
        "# Evaluate the model using the test data\n",
        "model_loss, model_accuracy, model_Recall= nn_model3.evaluate(X_test_scaled,y_test,verbose=2)\n",
        "print(f\"Loss: {model_loss}, Accuracy: {model_accuracy}\")"
      ],
      "metadata": {
        "id": "Ym1eXGows6x2",
        "colab": {
          "base_uri": "https://localhost:8080/"
        },
        "outputId": "acba456d-ce97-4150-a4b3-c4fcb5c15d78"
      },
      "execution_count": 36,
      "outputs": [
        {
          "output_type": "stream",
          "name": "stdout",
          "text": [
            "134/134 - 1s - loss: 1.2034 - accuracy: 0.5807 - recall_3: 0.3123 - 1s/epoch - 10ms/step\n",
            "Loss: 1.2034202814102173, Accuracy: 0.580690324306488\n"
          ]
        }
      ]
    },
    {
      "cell_type": "code",
      "source": [
        "# Model Accuracy Graph\n",
        "plt.title('Accuracy \\n',fontsize=20)\n",
        "plt.plot(fit_model3.history['accuracy'], 'red', label='Training Accuracy')\n",
        "plt.xlabel('Number of Epochs')\n",
        "plt.ylabel('Loss')\n",
        "plt.legend()\n",
        "plt.show()"
      ],
      "metadata": {
        "id": "4bThT6QTs_tr",
        "colab": {
          "base_uri": "https://localhost:8080/",
          "height": 512
        },
        "outputId": "28a83042-5d49-42cd-f646-1a4f63d8790d"
      },
      "execution_count": 37,
      "outputs": [
        {
          "output_type": "display_data",
          "data": {
            "text/plain": [
              "<Figure size 640x480 with 1 Axes>"
            ],
            "image/png": "[encoded data removed]"
          },
          "metadata": {}
        }
      ]
    }
  ],
  "metadata": {
    "kernelspec": {
      "display_name": "Python 3",
      "language": "python",
      "name": "python3"
    },
    "language_info": {
      "codemirror_mode": {
        "name": "ipython",
        "version": 3
      },
      "file_extension": ".py",
      "mimetype": "text/x-python",
      "name": "python",
      "nbconvert_exporter": "python",
      "pygments_lexer": "ipython3",
      "version": "3.-1.-1"
    },
    "vscode": {
      "interpreter": {
        "hash": "31f2aee4e71d21fbe5cf8b01ff0e069b9275f58929596ceb00d14d90e3e16cd6"
      }
    },
    "colab": {
      "provenance": [],
      "include_colab_link": true
    }
  },
  "nbformat": 4,
  "nbformat_minor": 0
}